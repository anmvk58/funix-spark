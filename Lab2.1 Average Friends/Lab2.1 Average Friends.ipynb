{
 "cells": [
  {
   "cell_type": "code",
   "execution_count": 2,
   "id": "15fd108a-b1a9-439a-9aec-d0a63cfd9573",
   "metadata": {},
   "outputs": [],
   "source": [
    "import os\n",
    "import findspark\n",
    "import sys\n",
    "\n",
    "# os.environ[\"JAVA_HOME\"] = \"C:\\\\Program Files\\\\Java\\\\jdk-21\"\n",
    "os.environ[\"JAVA_HOME\"] = \"D:\\\\anmv2\\\\Environment\\\\Jdk1.8\"\n",
    "os.environ[\"SPARK_HOME\"] = \"D:\\\\anmv2\\\\Environment\\\\Spark\\\\spark-3.5.3-bin-hadoop3\"\n",
    "# os.environ[\"HADOOP_HOME\"] = \"D:\\\\anmv2\\\\Environment\\\\Hadoop\\\\hadoop\"\n",
    "\n",
    "# Append pyspark  to Python Path\n",
    "# sys.path.append(\"D:\\\\anmv2\\\\Environment\\\\Spark\\\\spark-3.5.3-bin-hadoop3\\\\python\")\n",
    "# sys.path.append(\"D:\\\\anmv2\\\\Environment\\\\Spark\\\\spark-3.5.3-bin-hadoop3\\\\python\\\\lib\\\\py4j-0.10.9.7-src\")\n",
    "\n",
    "findspark.init()"
   ]
  },
  {
   "cell_type": "code",
   "execution_count": 3,
   "id": "fbe57774-c4e7-4fda-b94c-2d349b0de243",
   "metadata": {},
   "outputs": [],
   "source": [
    "from pyspark import SparkConf\n",
    "from pyspark.sql import SparkSession\n",
    "\n",
    "# Tạo SparkConf và cấu hình các tham số\n",
    "conf = SparkConf() \\\n",
    "    .setMaster('local') \\\n",
    "    .setAppName('Lab2.1 Average Friends') \n",
    "\n",
    "# Tạo SparkSession từ SparkConf\n",
    "spark = SparkSession.builder.config(conf=conf).getOrCreate()\n",
    "\n",
    "spark.sparkContext.setLogLevel(\"DEBUG\")\n",
    "\n",
    "# Lấy SparkContext từ SparkSession\n",
    "sc = spark.sparkContext"
   ]
  },
  {
   "cell_type": "code",
   "execution_count": null,
   "id": "36363960-ef2f-4065-afb5-b4099af30ded",
   "metadata": {},
   "outputs": [],
   "source": [
    "DATA_IN = 'data_lab_2.1_average_friends.csv'\n",
    "\n",
    "# method 1\n",
    "# df = spark.read.csv(DATA_IN, header=True, inferSchema=True)\n",
    "# Chuyển DataFrame thành RDD\n",
    "# rdd = df.rdd\n",
    "\n",
    "# method 2\n",
    "rdd = sc.textFile(DATA_IN)\n",
    "\n",
    "# remove first line as header\n",
    "headers = rdd.first()\n",
    "rdd = rdd.filter(lambda x: x!=headers) \n",
    "rdd.collect()"
   ]
  },
  {
   "cell_type": "code",
   "execution_count": 22,
   "id": "ee6ed709-2d64-48d2-a11a-d126418d8221",
   "metadata": {},
   "outputs": [
    {
     "name": "stdout",
     "output_type": "stream",
     "text": [
      "['1,Erroll Acom,31,3', '2,Bartel Mosen,25,3', '3,Wells Laybourn,43,1', '4,Marcella Mawer,40,5', '5,Ursa Batterson,25,3']\n"
     ]
    }
   ],
   "source": [
    "# Kiểm tra vài dòng dữ liệu của RDD\n",
    "print(rdd.take(5))"
   ]
  },
  {
   "cell_type": "code",
   "execution_count": 23,
   "id": "f3f7e1be-74b3-43cc-baab-3aa4f265489e",
   "metadata": {},
   "outputs": [],
   "source": [
    "# Hàm để thực hiện map \n",
    "def parseLine(line):\n",
    "    age = int(line.split(',')[2])\n",
    "    num_friends = int(line.split(',')[3])\n",
    "    return (age, num_friends)"
   ]
  },
  {
   "cell_type": "code",
   "execution_count": 24,
   "id": "f768ae42-abc6-45b1-8ac9-46ca81589d2d",
   "metadata": {},
   "outputs": [],
   "source": [
    "# Thực hiện chuyển RDD này về một danh sách các Key-Value với Key là tuổi và Value là số lượng bạn bè. \n",
    "# Ví dụ 0 Will 33 385 sẽ được chuyển thành (33, 385) \n",
    "rdd_kv = rdd.map(lambda x: parseLine(x))"
   ]
  },
  {
   "cell_type": "code",
   "execution_count": 25,
   "id": "21534a9f-6474-4c52-b024-e65868e535de",
   "metadata": {},
   "outputs": [
    {
     "name": "stdout",
     "output_type": "stream",
     "text": [
      "[(31, 3), (25, 3), (43, 1)]\n"
     ]
    }
   ],
   "source": [
    "print(rdd_kv.take(3))"
   ]
  },
  {
   "cell_type": "code",
   "execution_count": 33,
   "id": "34d35e99-2ca1-4e6a-b5b7-922c3948820e",
   "metadata": {},
   "outputs": [],
   "source": [
    "# Sử dụng hàm combineByKey để vừa tính số lượng bạn bè và số lượng số người có cùng tuổi để tính trung bình\n",
    "sum_count_rdd = rdd_kv.combineByKey(\n",
    "    lambda value: (value, 1),  # Khởi tạo (value, 1) cho mỗi giá trị đầu tiên của key\n",
    "    lambda acc, value: (acc[0] + value, acc[1] + 1),  # Cộng dồn value và tăng số lượng cho mỗi key\n",
    "    lambda acc1, acc2: (acc1[0] + acc2[0], acc1[1] + acc2[1])  # Kết hợp các tổng và số lượng từ các partition khác nhau\n",
    ")"
   ]
  },
  {
   "cell_type": "code",
   "execution_count": 34,
   "id": "dab75e17-8aaa-40d0-9434-e36b6f7f315c",
   "metadata": {},
   "outputs": [
    {
     "data": {
      "text/plain": [
       "[(31, (148, 39)),\n",
       " (25, (172, 48)),\n",
       " (43, (150, 40)),\n",
       " (40, (127, 36)),\n",
       " (44, (151, 42)),\n",
       " (39, (79, 26)),\n",
       " (26, (156, 49)),\n",
       " (28, (112, 32)),\n",
       " (50, (188, 52)),\n",
       " (42, (149, 45)),\n",
       " (34, (168, 50)),\n",
       " (46, (100, 30)),\n",
       " (27, (136, 38)),\n",
       " (47, (114, 30)),\n",
       " (29, (144, 43)),\n",
       " (30, (123, 35)),\n",
       " (49, (158, 41)),\n",
       " (45, (143, 42)),\n",
       " (33, (139, 37)),\n",
       " (37, (155, 42)),\n",
       " (35, (139, 39)),\n",
       " (36, (108, 30)),\n",
       " (32, (126, 38)),\n",
       " (41, (172, 41)),\n",
       " (38, (123, 32)),\n",
       " (48, (79, 23))]"
      ]
     },
     "execution_count": 34,
     "metadata": {},
     "output_type": "execute_result"
    }
   ],
   "source": [
    "sum_count_rdd.collect()"
   ]
  },
  {
   "cell_type": "markdown",
   "id": "56e54b10-3def-4346-9e72-cb29674df9c4",
   "metadata": {},
   "source": [
    "#### Guide về hàm combineByKey:\n",
    "- **lambda value:** (value, 1): Khởi tạo mỗi cặp (value, 1) cho mỗi key.\n",
    "- **lambda acc, value:** (acc[0] + value, acc[1] + 1): Cộng dồn giá trị value và tăng biến đếm số lượng lên 1 cho từng key.\n",
    "- **lambda acc1, acc2:** (acc1[0] + acc2[0], acc1[1] + acc2[1]): Kết hợp các giá trị value và số lượng từ các partition khác nhau.\n",
    "---\n",
    "\n",
    "```\n",
    "rdd.combineByKey(createCombiner, mergeValue, mergeCombiners)\n",
    "```\n",
    "- ***createCombiner:*** Một hàm áp dụng cho mỗi giá trị value ban đầu để khởi tạo combiners (trình kết hợp) trên mỗi key.\n",
    "- ***mergeValue:*** Một hàm nhận đối số là combiner và value, sau đó trả về combiner mới sau khi kết hợp value vào.\n",
    "- ***mergeCombiners:*** Một hàm nhận đối số là hai combiner và kết hợp chúng thành một combiner duy nhất."
   ]
  },
  {
   "cell_type": "code",
   "execution_count": 41,
   "id": "a82110d7-4947-40ae-82a4-b298a3390659",
   "metadata": {},
   "outputs": [],
   "source": [
    "# Sử dụng mapValues để tính giá trị trung bình theo keys+\n",
    "totalsByAge = sum_count_rdd \\\n",
    "                .mapValues(lambda x: round(x[0] / x[1], 3)) \\\n",
    "                .sortByKey() \\\n",
    "                .collect()"
   ]
  },
  {
   "cell_type": "code",
   "execution_count": 42,
   "id": "9abf2066-06e6-47a9-a78b-b37a61002580",
   "metadata": {},
   "outputs": [
    {
     "name": "stdout",
     "output_type": "stream",
     "text": [
      "[(25, 3.583), (26, 3.184), (27, 3.579), (28, 3.5), (29, 3.349), (30, 3.514), (31, 3.795), (32, 3.316), (33, 3.757), (34, 3.36), (35, 3.564), (36, 3.6), (37, 3.69), (38, 3.844), (39, 3.038), (40, 3.528), (41, 4.195), (42, 3.311), (43, 3.75), (44, 3.595), (45, 3.405), (46, 3.333), (47, 3.8), (48, 3.435), (49, 3.854), (50, 3.615)]\n"
     ]
    }
   ],
   "source": [
    "print(totalsByAge)"
   ]
  }
 ],
 "metadata": {
  "kernelspec": {
   "display_name": "Python 3 (ipykernel)",
   "language": "python",
   "name": "python3"
  },
  "language_info": {
   "codemirror_mode": {
    "name": "ipython",
    "version": 3
   },
   "file_extension": ".py",
   "mimetype": "text/x-python",
   "name": "python",
   "nbconvert_exporter": "python",
   "pygments_lexer": "ipython3",
   "version": "3.10.0"
  }
 },
 "nbformat": 4,
 "nbformat_minor": 5
}
