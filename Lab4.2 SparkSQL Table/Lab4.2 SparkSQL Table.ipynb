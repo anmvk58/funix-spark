{
 "cells": [
  {
   "cell_type": "code",
   "execution_count": null,
   "id": "683758c2-c81d-42b1-abca-63551ad9a54f",
   "metadata": {},
   "outputs": [],
   "source": [
    "import os\n",
    "import findspark\n",
    "import sys\n",
    "\n",
    "\n",
    "os.environ[\"JAVA_HOME\"] = \"D:\\\\anmv2\\\\Environment\\\\Jdk1.8\"\n",
    "os.environ[\"SPARK_HOME\"] = \"D:\\\\anmv2\\\\Environment\\\\Spark\\\\spark-3.5.3-bin-hadoop3\"\n",
    "os.environ[\"HADOOP_HOME\"] = \"D:\\\\anmv2\\\\Environment\\\\Hadoop\\\\hadoop-3.3.6\"\n",
    "\n",
    "\n",
    "findspark.init()"
   ]
  },
  {
   "cell_type": "code",
   "execution_count": null,
   "id": "09dad993-a9a3-43ec-a72a-59202f908a66",
   "metadata": {},
   "outputs": [],
   "source": [
    "from pyspark import SparkConf\n",
    "from pyspark.sql import SparkSession\n",
    "\n",
    "# Tạo SparkConf và cấu hình các tham số\n",
    "conf = SparkConf() \\\n",
    "    .setMaster('local') \\\n",
    "    .setAppName('Lab4.1 Hello SparkSQL') \n",
    "\n",
    "# Tạo SparkSession từ SparkConf\n",
    "spark = SparkSession.builder.config(conf=conf).getOrCreate()\n",
    "\n",
    "spark.sparkContext.setLogLevel(\"DEBUG\")\n",
    "\n",
    "# Lấy SparkContext từ SparkSession\n",
    "sc = spark.sparkContext"
   ]
  },
  {
   "cell_type": "code",
   "execution_count": null,
   "id": "59c4bb4f-b44d-4af3-983c-50bad0cf8bfc",
   "metadata": {},
   "outputs": [],
   "source": [
    "DATA_IN = 'data_lab4.2_sparkSQL_table.parquet'"
   ]
  },
  {
   "cell_type": "code",
   "execution_count": null,
   "id": "5b64dcf5-7b2e-4428-a484-c15889f74a60",
   "metadata": {},
   "outputs": [],
   "source": [
    "# Đọc dữ liệu từ Dataset\n",
    "flightTimeParquetDF = spark.read \\\n",
    "    .format(\"parquet\") \\\n",
    "    .load(DATA_IN)"
   ]
  },
  {
   "cell_type": "code",
   "execution_count": null,
   "id": "112b2316-65d8-4349-be70-8c966172d896",
   "metadata": {},
   "outputs": [],
   "source": [
    "# Tạo Database \"AIRLINE_DB\" nếu chưa tồn tại\n",
    "spark.sql(\"CREATE DATABASE IF NOT EXISTS AIRLINE_DB\")\n",
    "spark.catalog.setCurrentDatabase(\"AIRLINE_DB\")\n"
   ]
  },
  {
   "cell_type": "code",
   "execution_count": null,
   "id": "e7e8f41f-8050-4ec9-9bef-a19de3a5b7b1",
   "metadata": {},
   "outputs": [],
   "source": [
    "flightTimeParquetDF.write \\\n",
    "    .mode(\"overwrite\") \\\n",
    "    .saveAsTable(\"flight_data_tbl\")\n",
    "\n",
    "print(spark.catalog.listTables(\"AIRLINE_DB\"))"
   ]
  }
 ],
 "metadata": {
  "kernelspec": {
   "display_name": "Python 3 (ipykernel)",
   "language": "python",
   "name": "python3"
  },
  "language_info": {
   "codemirror_mode": {
    "name": "ipython",
    "version": 3
   },
   "file_extension": ".py",
   "mimetype": "text/x-python",
   "name": "python",
   "nbconvert_exporter": "python",
   "pygments_lexer": "ipython3",
   "version": "3.11.8"
  }
 },
 "nbformat": 4,
 "nbformat_minor": 5
}
