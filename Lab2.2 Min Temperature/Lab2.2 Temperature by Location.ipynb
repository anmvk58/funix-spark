{
 "cells": [
  {
   "cell_type": "code",
   "execution_count": null,
   "id": "896672fa-9268-449c-86ef-e7450259817b",
   "metadata": {},
   "outputs": [],
   "source": [
    "import os\n",
    "import findspark\n",
    "import sys\n",
    "\n",
    "os.environ[\"JAVA_HOME\"] = \"C:\\\\Program Files\\\\Java\\\\jdk-21\"\n",
    "os.environ[\"SPARK_HOME\"] = \"C:\\\\Users\\\\AnMV\\\\AppData\\\\Local\\\\Programs\\\\Python\\\\Python310\\\\Lib\\\\site-packages\\\\pyspark\"\n",
    "\n",
    "findspark.init()"
   ]
  },
  {
   "cell_type": "code",
   "execution_count": null,
   "id": "2832e709-169f-4d20-bbe8-8300f6093964",
   "metadata": {},
   "outputs": [],
   "source": [
    "from pyspark import SparkConf\n",
    "from pyspark.sql import SparkSession\n",
    "\n",
    "# Tạo SparkConf và cấu hình các tham số\n",
    "conf = SparkConf() \\\n",
    "    .setMaster('local') \\\n",
    "    .setAppName('Lab2.2 Temperature by Location') \n",
    "\n",
    "# Tạo SparkSession từ SparkConf\n",
    "spark = SparkSession.builder.config(conf=conf).getOrCreate()\n",
    "\n",
    "spark.sparkContext.setLogLevel(\"DEBUG\")\n",
    "\n",
    "# Lấy SparkContext từ SparkSession\n",
    "sc = spark.sparkContext"
   ]
  },
  {
   "cell_type": "code",
   "execution_count": null,
   "id": "ff217d0a-5d90-4a74-ad21-b68fb159e28a",
   "metadata": {},
   "outputs": [],
   "source": [
    "DATA_IN = 'data_lab2.2_temperature_by_location.csv'\n",
    "\n",
    "rdd = sc.textFile(DATA_IN)\n",
    "\n",
    "# remove first line as header\n",
    "headers = rdd.first()\n",
    "rdd = rdd.filter(lambda x: x!=headers) \n",
    "rdd.collect()"
   ]
  },
  {
   "cell_type": "code",
   "execution_count": null,
   "id": "d4be44b3-ae11-402f-b702-06563eba0967",
   "metadata": {},
   "outputs": [],
   "source": [
    "# Hàm chuyển đổi dữ liệu thành các cặp Key-Vaule tương ứng\n",
    "def parseLine(line):\n",
    "    station_id = line.split(',')[0]\n",
    "    entry_type = line.split(',')[2]\n",
    "    temperature = float(line.split(',')[3])*0.1*(9.0/5.0) + 32.0\n",
    "    return (station_id, entry_type, temperature)\n",
    "\n",
    "rdd_parsed = rdd.map(lambda x: parseLine(x))\n",
    "rdd_parsed.collect()"
   ]
  },
  {
   "cell_type": "code",
   "execution_count": null,
   "id": "0148de69-63e6-4538-a2d2-799fa8899ca7",
   "metadata": {},
   "outputs": [],
   "source": [
    "# Lọc các giá trị có Type là TMIN\n",
    "min_temps = rdd_parsed.filter(lambda x: x[1] == 'TMIN')\n",
    "min_temps.collect()"
   ]
  },
  {
   "cell_type": "code",
   "execution_count": null,
   "id": "052bf065-4363-4064-b29c-6cfe419e913c",
   "metadata": {},
   "outputs": [],
   "source": [
    "# Tìm giá trị nhiệt độ nhỏ nhất theo các thành phố.\n",
    "station_temps = min_temps.map(lambda x: (x[0], x[2]))\n",
    "# station_temps.collect()\n",
    "min_temps_by_location = station_temps.reduceByKey(lambda x,y : x if x < y else y)"
   ]
  },
  {
   "cell_type": "code",
   "execution_count": null,
   "id": "94eebfbc-d34a-4993-ac13-632dae2a7622",
   "metadata": {},
   "outputs": [],
   "source": [
    "results = min_temps_by_location.collect()\n",
    "for result in results:\n",
    "    print(result[0] + \"\\t{:.2f}F\".format(result[1]))"
   ]
  },
  {
   "cell_type": "code",
   "execution_count": null,
   "id": "e24ff74c-d3e9-4509-96ca-bed24962a998",
   "metadata": {},
   "outputs": [],
   "source": []
  }
 ],
 "metadata": {
  "kernelspec": {
   "display_name": "Python 3 (ipykernel)",
   "language": "python",
   "name": "python3"
  },
  "language_info": {
   "codemirror_mode": {
    "name": "ipython",
    "version": 3
   },
   "file_extension": ".py",
   "mimetype": "text/x-python",
   "name": "python",
   "nbconvert_exporter": "python",
   "pygments_lexer": "ipython3",
   "version": "3.10.0"
  }
 },
 "nbformat": 4,
 "nbformat_minor": 5
}
