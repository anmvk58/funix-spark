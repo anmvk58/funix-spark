{
 "cells": [
  {
   "cell_type": "code",
   "execution_count": null,
   "id": "c65266ed-32cc-4598-8a95-d3475551d6ba",
   "metadata": {},
   "outputs": [],
   "source": [
    "import os\n",
    "import findspark\n",
    "import sys\n",
    "\n",
    "\n",
    "os.environ[\"JAVA_HOME\"] = \"D:\\\\anmv2\\\\Environment\\\\Jdk1.8\"\n",
    "os.environ[\"SPARK_HOME\"] = \"D:\\\\anmv2\\\\Environment\\\\Spark\\\\spark-3.5.3-bin-hadoop3\"\n",
    "\n",
    "findspark.init()"
   ]
  },
  {
   "cell_type": "code",
   "execution_count": null,
   "id": "8159560c-6987-4426-82e5-3466faa6b07f",
   "metadata": {},
   "outputs": [],
   "source": [
    "from pyspark import SparkConf\n",
    "from pyspark.sql import SparkSession\n",
    "\n",
    "# Tạo SparkConf và cấu hình các tham số\n",
    "conf = SparkConf() \\\n",
    "    .setMaster('local') \\\n",
    "    .setAppName('Lab4.1 Hello SparkSQL') \n",
    "\n",
    "# Tạo SparkSession từ SparkConf\n",
    "spark = SparkSession.builder.config(conf=conf).getOrCreate()\n",
    "\n",
    "spark.sparkContext.setLogLevel(\"DEBUG\")\n",
    "\n",
    "# Lấy SparkContext từ SparkSession\n",
    "sc = spark.sparkContext"
   ]
  },
  {
   "cell_type": "code",
   "execution_count": null,
   "id": "d9fc486f-8472-41fc-b851-0b75de277356",
   "metadata": {},
   "outputs": [],
   "source": [
    "DATA_IN = 'data_lab4.1_hello_spark_sql.csv'"
   ]
  },
  {
   "cell_type": "code",
   "execution_count": null,
   "id": "eb1bf746-a240-4434-a1f8-447e78b85566",
   "metadata": {},
   "outputs": [],
   "source": [
    "# option(\"inferSchema\", \"true\") => Để Spark tự động suy luận kiểu dữ liệu của các cột dựa trên giá trị của chúng.\n",
    "surveyDF = spark.read \\\n",
    "    .option(\"header\", \"true\") \\\n",
    "    .option(\"inferSchema\", \"true\") \\\n",
    "    .csv(DATA_IN)"
   ]
  },
  {
   "cell_type": "code",
   "execution_count": null,
   "id": "21e7cfde-240b-4ebd-9f8a-89ca1b0bba3f",
   "metadata": {},
   "outputs": [],
   "source": [
    "surveyDF.printSchema()"
   ]
  },
  {
   "cell_type": "code",
   "execution_count": null,
   "id": "4ba4ca7e-2b48-4f1f-a26c-9c6812355a58",
   "metadata": {},
   "outputs": [],
   "source": [
    "# Create temp view\n",
    "surveyDF.createOrReplaceTempView(\"survey_tbl\")\n",
    "\n",
    "# Run query\n",
    "countDF = spark.sql(\"select Country, count(1) as count from survey_tbl where Age<40 group by Country\")\n",
    "\n",
    "countDF.show()\n"
   ]
  }
 ],
 "metadata": {
  "kernelspec": {
   "display_name": "Python 3 (ipykernel)",
   "language": "python",
   "name": "python3"
  },
  "language_info": {
   "codemirror_mode": {
    "name": "ipython",
    "version": 3
   },
   "file_extension": ".py",
   "mimetype": "text/x-python",
   "name": "python",
   "nbconvert_exporter": "python",
   "pygments_lexer": "ipython3",
   "version": "3.11.8"
  }
 },
 "nbformat": 4,
 "nbformat_minor": 5
}
